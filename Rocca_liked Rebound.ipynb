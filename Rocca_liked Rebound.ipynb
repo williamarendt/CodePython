{
 "cells": [
  {
   "cell_type": "code",
   "execution_count": null,
   "id": "0eabce56",
   "metadata": {},
   "outputs": [],
   "source": [
    "import numpy as np\n",
    "import sympy as sp"
   ]
  },
  {
   "cell_type": "code",
   "execution_count": 55,
   "id": "272329c5",
   "metadata": {},
   "outputs": [],
   "source": [
    "class Formal:\n",
    "    def __init__(self, expr):\n",
    "        self.expr = str(expr)\n",
    "\n",
    "    def __add__(self, other):\n",
    "        other_expr = getattr(other, 'expr', str(other))\n",
    "        if self.expr == \"0\":\n",
    "            return Formal(other_expr)\n",
    "        if other_expr == \"0\":\n",
    "            return Formal(self.expr)\n",
    "        return Formal(f\"{self.expr} + {other_expr}\")\n",
    "\n",
    "    def __radd__(self, other):\n",
    "        return self.__add__(other)\n",
    "\n",
    "    def __mul__(self, other):\n",
    "        other_expr = getattr(other, 'expr', str(other))\n",
    "        if self.expr == \"0\" or other_expr == \"0\":\n",
    "            return Formal(\"0\")\n",
    "        return Formal(f\"{self.expr}*{other_expr}\")\n",
    "\n",
    "    def __rmul__(self, other):\n",
    "        return self.__mul__(other)\n",
    "\n",
    "    def __repr__(self):\n",
    "        return self.expr\n",
    "\n",
    "    def __eq__(self, other):\n",
    "        return isinstance(other, Formal) and self.expr == other.expr\n"
   ]
  },
  {
   "cell_type": "code",
   "execution_count": 60,
   "id": "acc47d33",
   "metadata": {},
   "outputs": [
    {
     "data": {
      "text/plain": [
       "array([A*3 + K*9, K*1 + K*10, A*4 + K*11, A*2 + K*5, K*7 + K*12,\n",
       "       K*8 + K*9, K*3 + K*4, K*2 + K*6, K*5 + A*7, A*1, A*8 + K*10,\n",
       "       K*6 + K*11], dtype=object)"
      ]
     },
     "execution_count": 60,
     "metadata": {},
     "output_type": "execute_result"
    }
   ],
   "source": [
    "import numpy as np\n",
    "\n",
    "Matrix = np.array([[0,0,2,0,0,0,0,0,1,0,0,0],\n",
    "                   [1,0,0,0,0,0,0,0,0,1,0,0],\n",
    "                   [0,0,0,2,0,0,0,0,0,0,1,0],\n",
    "                   [0,2,0,0,1,0,0,0,0,0,0,0],\n",
    "                   [0,0,0,0,0,0,1,0,0,0,0,1],\n",
    "                   [0,0,0,0,0,0,0,1,1,0,0,0],\n",
    "                   [0,0,1,1,0,0,0,0,0,0,0,0],\n",
    "                   [0,1,0,0,0,1,0,0,0,0,0,0],\n",
    "                   [0,0,0,0,1,0,2,0,0,0,0,0],\n",
    "                   [2,0,0,0,0,0,0,0,0,0,0,0],\n",
    "                   [0,0,0,0,0,0,0,2,0,1,0,0],\n",
    "                   [0,0,0,0,0,1,0,0,0,0,1,0]], dtype=object)\n",
    "\n",
    "K = Formal(\"K\")\n",
    "A = Formal(\"A\")\n",
    "\n",
    "Matrixsym = Matrix.copy()\n",
    "Matrixsym[Matrixsym == 2] = A\n",
    "Matrixsym[Matrixsym == 1] = K\n",
    "\n",
    "Vector_in = np.array(range(1,13), dtype=object)\n",
    "Vector_out = Matrixsym @ Vector_in\n",
    "\n",
    "Vector_out\n"
   ]
  }
 ],
 "metadata": {
  "kernelspec": {
   "display_name": "base",
   "language": "python",
   "name": "python3"
  },
  "language_info": {
   "codemirror_mode": {
    "name": "ipython",
    "version": 3
   },
   "file_extension": ".py",
   "mimetype": "text/x-python",
   "name": "python",
   "nbconvert_exporter": "python",
   "pygments_lexer": "ipython3",
   "version": "3.13.5"
  }
 },
 "nbformat": 4,
 "nbformat_minor": 5
}
